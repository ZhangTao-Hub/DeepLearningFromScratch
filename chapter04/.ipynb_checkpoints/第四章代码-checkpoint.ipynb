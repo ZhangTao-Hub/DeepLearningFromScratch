{
 "cells": [
  {
   "cell_type": "code",
   "execution_count": 1,
   "id": "a49dbbb7-bef9-4b40-9c2c-392941d9d1ab",
   "metadata": {},
   "outputs": [],
   "source": [
    "import numpy as np"
   ]
  },
  {
   "cell_type": "code",
   "execution_count": 2,
   "id": "a93c64f7-7e9e-4947-a336-1a8f1327bd91",
   "metadata": {},
   "outputs": [],
   "source": [
    "y = [0.1, 0.05, 0.6, 0.0, 0.05, 0.1, 0.0, 0.1, 0.0, 0.0]"
   ]
  },
  {
   "cell_type": "code",
   "execution_count": 3,
   "id": "46abf195-0ff1-4b58-a54d-3e203c568412",
   "metadata": {},
   "outputs": [],
   "source": [
    "t = [0, 0, 1, 0, 0, 0, 0, 0, 0, 0]"
   ]
  },
  {
   "cell_type": "code",
   "execution_count": 4,
   "id": "e2142455-db85-4264-bf63-2f008f2690f1",
   "metadata": {},
   "outputs": [],
   "source": [
    "def mean_squared_error(y, t):\n",
    "    return 0.5 * np.sum((y-t)**2)"
   ]
  },
  {
   "cell_type": "code",
   "execution_count": 5,
   "id": "6449bf19-d3e6-4951-954a-d141e7135152",
   "metadata": {},
   "outputs": [
    {
     "data": {
      "text/plain": [
       "np.float64(0.09750000000000003)"
      ]
     },
     "execution_count": 5,
     "metadata": {},
     "output_type": "execute_result"
    }
   ],
   "source": [
    "mean_squared_error(np.array(y), np.array(t))"
   ]
  },
  {
   "cell_type": "code",
   "execution_count": 6,
   "id": "f9033725-72dc-4f7d-b9c0-005566cd76d1",
   "metadata": {},
   "outputs": [],
   "source": [
    "def cross_entropy_error(y, t):\n",
    "    delta = 1e-7\n",
    "    return -np.sum(t * np.log(y + delta))"
   ]
  },
  {
   "cell_type": "code",
   "execution_count": 7,
   "id": "7f5cb3d1-c1d0-48a1-a510-e025288e47ea",
   "metadata": {},
   "outputs": [
    {
     "data": {
      "text/plain": [
       "np.float64(0.510825457099338)"
      ]
     },
     "execution_count": 7,
     "metadata": {},
     "output_type": "execute_result"
    }
   ],
   "source": [
    "cross_entropy_error(np.array(y), np.array(t))"
   ]
  },
  {
   "cell_type": "code",
   "execution_count": 8,
   "id": "06dcaa30-fd69-4ecf-94fb-42786b1ac4bd",
   "metadata": {},
   "outputs": [
    {
     "data": {
      "text/plain": [
       "1"
      ]
     },
     "execution_count": 8,
     "metadata": {},
     "output_type": "execute_result"
    }
   ],
   "source": [
    "np.array(y).ndim"
   ]
  },
  {
   "cell_type": "markdown",
   "id": "c9b2d615-4ce8-4ef1-a7ce-dfca92cf3c7c",
   "metadata": {},
   "source": [
    "# 读入mnist数据集"
   ]
  },
  {
   "cell_type": "code",
   "execution_count": 9,
   "id": "160e24b7-3a5c-49c4-babc-24886fdcaba3",
   "metadata": {},
   "outputs": [],
   "source": [
    "import sys, os"
   ]
  },
  {
   "cell_type": "code",
   "execution_count": 10,
   "id": "09184ac2-8376-4747-a99e-aa71ac8534eb",
   "metadata": {},
   "outputs": [],
   "source": [
    "sys.path.append(os.pardir)"
   ]
  },
  {
   "cell_type": "code",
   "execution_count": 11,
   "id": "8d629b09-b98a-4df0-85a5-b880e67f1b99",
   "metadata": {},
   "outputs": [],
   "source": [
    "import numpy as np"
   ]
  },
  {
   "cell_type": "code",
   "execution_count": 12,
   "id": "22986270-8b4f-4eff-ad1d-e1bf889c2976",
   "metadata": {},
   "outputs": [],
   "source": [
    "from dataset.mnist import load_mnist"
   ]
  },
  {
   "cell_type": "code",
   "execution_count": 13,
   "id": "bca89b17-d38c-435f-8eb8-309173d2b497",
   "metadata": {},
   "outputs": [],
   "source": [
    "(x_train, t_train), (x_test, y_test) = load_mnist(flatten=True, normalize=True, one_hot_label=True)"
   ]
  },
  {
   "cell_type": "code",
   "execution_count": 14,
   "id": "9e5994b9-0c82-4a36-ac13-4686cec7aa00",
   "metadata": {},
   "outputs": [
    {
     "data": {
      "text/plain": [
       "(60000, 784)"
      ]
     },
     "execution_count": 14,
     "metadata": {},
     "output_type": "execute_result"
    }
   ],
   "source": [
    "x_train.shape"
   ]
  },
  {
   "cell_type": "code",
   "execution_count": 15,
   "id": "1195885e-ff1b-40e1-b69b-939906a1122e",
   "metadata": {},
   "outputs": [
    {
     "data": {
      "text/plain": [
       "(60000, 10)"
      ]
     },
     "execution_count": 15,
     "metadata": {},
     "output_type": "execute_result"
    }
   ],
   "source": [
    "t_train.shape"
   ]
  },
  {
   "cell_type": "code",
   "execution_count": 16,
   "id": "ed6f8e06-baf8-498d-9e0f-726ae3bec64c",
   "metadata": {},
   "outputs": [],
   "source": [
    "train_size = x_train.shape[0]"
   ]
  },
  {
   "cell_type": "code",
   "execution_count": 17,
   "id": "886793e0-7125-4c3f-8d43-7c06e632adc3",
   "metadata": {},
   "outputs": [],
   "source": [
    "batch_size = 10"
   ]
  },
  {
   "cell_type": "code",
   "execution_count": 18,
   "id": "3d789cf0-bd55-4078-bdf5-52bc71b79be4",
   "metadata": {},
   "outputs": [],
   "source": [
    "batch_mask = np.random.choice(train_size, batch_size)"
   ]
  },
  {
   "cell_type": "code",
   "execution_count": 19,
   "id": "948ff729-d68e-4b8f-9c29-d5905c38425d",
   "metadata": {},
   "outputs": [],
   "source": [
    "x_batch = x_train[batch_mask]"
   ]
  },
  {
   "cell_type": "code",
   "execution_count": 20,
   "id": "b30b7574-b9e6-438b-9cdb-fca12306dc3b",
   "metadata": {},
   "outputs": [],
   "source": [
    "t_batch = t_train[batch_mask]"
   ]
  },
  {
   "cell_type": "markdown",
   "id": "fe8945a9-528a-47f1-8684-f491346ad454",
   "metadata": {},
   "source": [
    "# mini_batch版本 cross_entropy_error"
   ]
  },
  {
   "cell_type": "code",
   "execution_count": 21,
   "id": "21387539-c7b3-4d14-b607-8a2a66ba3548",
   "metadata": {},
   "outputs": [],
   "source": [
    "def cross_entropy_error(y ,t):\n",
    "    if y.ndim == 1:\n",
    "        t = t.reshape(1, t.size)\n",
    "        y = y.reshape(1 ,y.size)\n",
    "\n",
    "    batch_size = y.shape[0]\n",
    "    return -np.sum(t * np.log(y + 1e-7)) / batch_size"
   ]
  },
  {
   "cell_type": "markdown",
   "id": "7c49dc39-02d6-4724-b7b8-c8341d9bc134",
   "metadata": {},
   "source": [
    "# 当监督数据是标签形式"
   ]
  },
  {
   "cell_type": "code",
   "execution_count": 22,
   "id": "bce06b97-b6b4-442b-9415-cb06dd741060",
   "metadata": {},
   "outputs": [],
   "source": [
    "def cross_entropy_error(y, t):\n",
    "    if y.ndim == 1:\n",
    "        t = t.reshape(1, t.size)\n",
    "        y = y.reshape(1, y.size)\n",
    "\n",
    "    batch_size = y.shape[0]\n",
    "    print(y[np.arange(batch_size), t])\n",
    "    return -np.sum(np.log(y[np.arange(batch_size), t] + 1e-7)) / batch_size"
   ]
  },
  {
   "cell_type": "code",
   "execution_count": 23,
   "id": "372bc770-6d8b-44be-a9f8-db97ae8a9056",
   "metadata": {},
   "outputs": [],
   "source": [
    "y = [0.1, 0.05, 0.6, 0.0, 0.05, 0.1, 0.0, 0.1, 0.0, 0.0]"
   ]
  },
  {
   "cell_type": "code",
   "execution_count": 24,
   "id": "e3b1c70f-0a0f-4b08-8395-56b3db8eea1c",
   "metadata": {},
   "outputs": [],
   "source": [
    "t = [0, 1, 2, 3, 4, 5, 6, 7, 8, 9]"
   ]
  },
  {
   "cell_type": "code",
   "execution_count": 25,
   "id": "70d8164a-d896-49fb-a2c3-e0dda24f00f0",
   "metadata": {},
   "outputs": [
    {
     "name": "stdout",
     "output_type": "stream",
     "text": [
      "[[0.1  0.05 0.6  0.   0.05 0.1  0.   0.1  0.   0.  ]]\n"
     ]
    },
    {
     "data": {
      "text/plain": [
       "np.float64(77.88242088702825)"
      ]
     },
     "execution_count": 25,
     "metadata": {},
     "output_type": "execute_result"
    }
   ],
   "source": [
    "cross_entropy_error(np.array(y), np.array(t))"
   ]
  },
  {
   "cell_type": "markdown",
   "id": "dbf9926c-2b3a-4d7b-9543-17eb41c1bc1c",
   "metadata": {},
   "source": [
    "# 数值微分"
   ]
  },
  {
   "cell_type": "code",
   "execution_count": 26,
   "id": "17cdbb94-64af-45d8-8878-f89faa329e4e",
   "metadata": {},
   "outputs": [],
   "source": [
    "def numerical_diff(f, x):\n",
    "    h = 1e-4\n",
    "    return (f(x+h)-f(x-h)) / 2*h"
   ]
  },
  {
   "cell_type": "code",
   "execution_count": 27,
   "id": "f380b328-d342-4b45-a2fa-ad2df48564ba",
   "metadata": {},
   "outputs": [],
   "source": [
    "def function_1(x):\n",
    "    return 0.01*x**2 + 0.1*x"
   ]
  },
  {
   "cell_type": "code",
   "execution_count": 28,
   "id": "358c5e3f-dccd-4550-af72-15dc1c0be329",
   "metadata": {},
   "outputs": [],
   "source": [
    "import numpy as np"
   ]
  },
  {
   "cell_type": "code",
   "execution_count": 29,
   "id": "c14d0221-89fb-4041-94d1-6f03ba0c191b",
   "metadata": {},
   "outputs": [],
   "source": [
    "import matplotlib.pyplot as plt\n",
    "%matplotlib inline"
   ]
  },
  {
   "cell_type": "code",
   "execution_count": 30,
   "id": "1f785065-b750-423e-961c-6ff410c7f627",
   "metadata": {},
   "outputs": [],
   "source": [
    "x = np.arange(0, 20, 0.1)"
   ]
  },
  {
   "cell_type": "code",
   "execution_count": 31,
   "id": "fe56e4ff-1503-4429-94b1-0f8717b2bde2",
   "metadata": {},
   "outputs": [],
   "source": [
    "y = function_1(x)"
   ]
  },
  {
   "cell_type": "code",
   "execution_count": 32,
   "id": "b49c9f2e-c913-4703-b8b7-4c36e839518d",
   "metadata": {},
   "outputs": [
    {
     "data": {
      "text/plain": [
       "Text(0, 0.5, 'f(x)')"
      ]
     },
     "execution_count": 32,
     "metadata": {},
     "output_type": "execute_result"
    },
    {
     "data": {
      "image/png": "[encoded data removed]",
      "text/plain": [
       "<Figure size 640x480 with 1 Axes>"
      ]
     },
     "metadata": {},
     "output_type": "display_data"
    }
   ],
   "source": [
    "plt.plot(x, y)\n",
    "plt.xlabel('x')\n",
    "plt.ylabel('f(x)')\n",
    "# plt.show()"
   ]
  },
  {
   "cell_type": "code",
   "execution_count": 33,
   "id": "0dd58d4c-524c-422c-acb4-10d634cad512",
   "metadata": {},
   "outputs": [
    {
     "data": {
      "text/plain": [
       "1.9999999999908982e-09"
      ]
     },
     "execution_count": 33,
     "metadata": {},
     "output_type": "execute_result"
    }
   ],
   "source": [
    "numerical_diff(function_1, 5)"
   ]
  },
  {
   "cell_type": "code",
   "execution_count": 34,
   "id": "ed2503be-9df7-4e83-8773-cf6a4466eba1",
   "metadata": {},
   "outputs": [
    {
     "data": {
      "text/plain": [
       "2.999999999986347e-09"
      ]
     },
     "execution_count": 34,
     "metadata": {},
     "output_type": "execute_result"
    }
   ],
   "source": [
    "numerical_diff(function_1, 10)"
   ]
  },
  {
   "cell_type": "markdown",
   "id": "df59eec3-afad-4242-ba3b-e9a1c4027df6",
   "metadata": {},
   "source": [
    "# 偏导数"
   ]
  },
  {
   "cell_type": "code",
   "execution_count": 35,
   "id": "b906353d-95cc-4f7d-ae10-9a2274ca36f6",
   "metadata": {},
   "outputs": [],
   "source": [
    "def function_2(x):\n",
    "    return x[0] ** 2 + x[1] ** 2"
   ]
  },
  {
   "cell_type": "code",
   "execution_count": 36,
   "id": "5486a169-641b-4673-a9ab-249f3827d18f",
   "metadata": {},
   "outputs": [],
   "source": [
    "def function_temp1(x0):\n",
    "    return x0 * x0 + 4 ** 2"
   ]
  },
  {
   "cell_type": "code",
   "execution_count": 37,
   "id": "9c6c0b3b-0f44-4eff-821b-5ad65334478f",
   "metadata": {},
   "outputs": [
    {
     "data": {
      "text/plain": [
       "6.000000000003781e-08"
      ]
     },
     "execution_count": 37,
     "metadata": {},
     "output_type": "execute_result"
    }
   ],
   "source": [
    "numerical_diff(function_temp1, 3)"
   ]
  },
  {
   "cell_type": "code",
   "execution_count": 38,
   "id": "e9ab5671-47b1-4e9b-88b5-57a1e2508711",
   "metadata": {},
   "outputs": [],
   "source": [
    "def function_temp2(x1):\n",
    "    return 3 ** 2 + x1 * x1"
   ]
  },
  {
   "cell_type": "code",
   "execution_count": 39,
   "id": "1e32acfa-5d61-436d-a542-ac75682905f9",
   "metadata": {},
   "outputs": [
    {
     "data": {
      "text/plain": [
       "7.999999999999119e-08"
      ]
     },
     "execution_count": 39,
     "metadata": {},
     "output_type": "execute_result"
    }
   ],
   "source": [
    "numerical_diff(function_temp2, 4)"
   ]
  },
  {
   "cell_type": "markdown",
   "id": "49d2f28d-75b1-439f-98a4-7e5dc2fdcd11",
   "metadata": {},
   "source": [
    "# 梯度"
   ]
  },
  {
   "cell_type": "code",
   "execution_count": 40,
   "id": "2dd40a93-a1e5-4a74-b0cd-762161970bce",
   "metadata": {},
   "outputs": [],
   "source": [
    "def numerical_gradient(f, x):\n",
    "    h = 1e-4\n",
    "    grad = np.zeros_like(x)\n",
    "\n",
    "    for idx in range(x.size):\n",
    "        temp_val = x[idx]\n",
    "\n",
    "        # f(x + h)\n",
    "        x[idx] = temp_val + h\n",
    "        fxh1 = f(x)\n",
    "\n",
    "        # f(x-h)\n",
    "        x[idx] = temp_val - h\n",
    "        fxh2 = f(x)\n",
    "\n",
    "        grad[idx] = (fxh1 - fxh2) / (2 * h)\n",
    "        x[idx] = temp_val\n",
    "\n",
    "    return grad\n",
    "        "
   ]
  },
  {
   "cell_type": "code",
   "execution_count": 41,
   "id": "bdb239d8-c0d6-4d2c-95d5-02d3c1b1faa2",
   "metadata": {},
   "outputs": [
    {
     "data": {
      "text/plain": [
       "array([6., 8.])"
      ]
     },
     "execution_count": 41,
     "metadata": {},
     "output_type": "execute_result"
    }
   ],
   "source": [
    "numerical_gradient(function_2, np.array([3.0, 4.0]))"
   ]
  },
  {
   "cell_type": "code",
   "execution_count": 42,
   "id": "1de6da5d-4e68-4ead-9b7f-42e6ce18ab85",
   "metadata": {},
   "outputs": [
    {
     "data": {
      "text/plain": [
       "array([0., 4.])"
      ]
     },
     "execution_count": 42,
     "metadata": {},
     "output_type": "execute_result"
    }
   ],
   "source": [
    "numerical_gradient(function_2,np.array([0.0, 2.0]))"
   ]
  },
  {
   "cell_type": "code",
   "execution_count": 43,
   "id": "d7324e66-b0e7-42b5-aa63-4566be506f11",
   "metadata": {},
   "outputs": [
    {
     "data": {
      "text/plain": [
       "array([6., 0.])"
      ]
     },
     "execution_count": 43,
     "metadata": {},
     "output_type": "execute_result"
    }
   ],
   "source": [
    "numerical_gradient(function_2, np.array([3.0, 0.0]))"
   ]
  },
  {
   "cell_type": "markdown",
   "id": "e56feb94-aca2-4707-bc6f-650e8e02f10d",
   "metadata": {},
   "source": [
    "# 梯度下降"
   ]
  },
  {
   "cell_type": "code",
   "execution_count": 44,
   "id": "037c5953-a8dc-4f57-b3a5-6b543c914048",
   "metadata": {},
   "outputs": [],
   "source": [
    "def gradient_descent(f, init_x, lr=0.01, step_num=100):\n",
    "    x = init_x\n",
    "    for i in range(step_num):\n",
    "        grad = numerical_gradient(f, x)\n",
    "        x -= lr * grad\n",
    "\n",
    "    return x"
   ]
  },
  {
   "cell_type": "code",
   "execution_count": 45,
   "id": "b967a24d-0c34-4a0e-b8d8-a7686565d564",
   "metadata": {},
   "outputs": [],
   "source": [
    "init_x = np.array([-3.0, 4.0])"
   ]
  },
  {
   "cell_type": "code",
   "execution_count": 46,
   "id": "434dd666-8772-47d2-94e9-3a3398849318",
   "metadata": {},
   "outputs": [],
   "source": [
    "x = gradient_descent(function_2, init_x, 0.01, 150)"
   ]
  },
  {
   "cell_type": "code",
   "execution_count": 47,
   "id": "6012f698-0d19-4ee8-8a18-473f1f9f5362",
   "metadata": {},
   "outputs": [
    {
     "data": {
      "text/plain": [
       "array([-0.26561362,  0.35415149])"
      ]
     },
     "execution_count": 47,
     "metadata": {},
     "output_type": "execute_result"
    }
   ],
   "source": [
    "x"
   ]
  },
  {
   "cell_type": "code",
   "execution_count": 48,
   "id": "c522cfe6-657f-4ab2-aecc-95e5b5f226fd",
   "metadata": {},
   "outputs": [],
   "source": [
    "x = gradient_descent(function_2, init_x, 10, 100)"
   ]
  },
  {
   "cell_type": "code",
   "execution_count": 49,
   "id": "0d529128-ca55-46aa-b6b6-153af347b898",
   "metadata": {},
   "outputs": [
    {
     "data": {
      "text/plain": [
       "array([-1.80183457e+12,  2.19204984e+12])"
      ]
     },
     "execution_count": 49,
     "metadata": {},
     "output_type": "execute_result"
    }
   ],
   "source": [
    "x"
   ]
  },
  {
   "cell_type": "code",
   "execution_count": 50,
   "id": "1afffb9c-be2e-4331-b87a-fe8d29e5bf9a",
   "metadata": {},
   "outputs": [],
   "source": [
    "x = gradient_descent(function_2, init_x, 1e-10, 100)"
   ]
  },
  {
   "cell_type": "code",
   "execution_count": 51,
   "id": "b8c2a33a-a0a4-434f-b19d-0bed51bf31c4",
   "metadata": {},
   "outputs": [
    {
     "data": {
      "text/plain": [
       "array([-1.80183457e+12,  2.19204984e+12])"
      ]
     },
     "execution_count": 51,
     "metadata": {},
     "output_type": "execute_result"
    }
   ],
   "source": [
    "x"
   ]
  },
  {
   "cell_type": "code",
   "execution_count": null,
   "id": "6b3aaaa9-88a6-4c44-9051-5c0ad1aebd1f",
   "metadata": {},
   "outputs": [],
   "source": []
  }
 ],
 "metadata": {
  "kernelspec": {
   "display_name": "Python 3 (ipykernel)",
   "language": "python",
   "name": "python3"
  },
  "language_info": {
   "codemirror_mode": {
    "name": "ipython",
    "version": 3
   },
   "file_extension": ".py",
   "mimetype": "text/x-python",
   "name": "python",
   "nbconvert_exporter": "python",
   "pygments_lexer": "ipython3",
   "version": "3.9.21"
  }
 },
 "nbformat": 4,
 "nbformat_minor": 5
}
